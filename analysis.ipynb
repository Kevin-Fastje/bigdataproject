{
 "cells": [
  {
   "cell_type": "markdown",
   "id": "7a2a6958",
   "metadata": {},
   "source": [
    "## Decentralised Load Forecasting with Graph Neural Networks and Edge AI"
   ]
  },
  {
   "cell_type": "markdown",
   "id": "8947253f",
   "metadata": {},
   "source": [
    "Name: Kevin Fastje  \n",
    "Student ID: a1933491"
   ]
  },
  {
   "cell_type": "markdown",
   "id": "66dae364",
   "metadata": {},
   "source": [
    "### Assignment 2: Part B – Big Data Analysis"
   ]
  },
  {
   "cell_type": "code",
   "execution_count": 15,
   "id": "f87541aa",
   "metadata": {},
   "outputs": [],
   "source": [
    "import pandas as pd\n",
    "import os\n",
    "import numpy as np\n",
    "import matplotlib.pyplot as plt \n",
    "import seaborn as sns"
   ]
  },
  {
   "cell_type": "markdown",
   "id": "b078da7e",
   "metadata": {},
   "source": [
    "#### 1. Loading Data"
   ]
  },
  {
   "cell_type": "code",
   "execution_count": 8,
   "id": "9b905121",
   "metadata": {},
   "outputs": [
    {
     "name": "stdout",
     "output_type": "stream",
     "text": [
      "(8760, 39)\n",
      "Index(['Unnamed: 0', 'DE11', 'DE12', 'DE13', 'DE14', 'DE21', 'DE22', 'DE23',\n",
      "       'DE24', 'DE25', 'DE26', 'DE27', 'DE30', 'DE40', 'DE50', 'DE60', 'DE71',\n",
      "       'DE72', 'DE73', 'DE80', 'DE91', 'DE92', 'DE93', 'DE94', 'DEA1', 'DEA2',\n",
      "       'DEA3', 'DEA4', 'DEA5', 'DEB1', 'DEB2', 'DEB3', 'DEC0', 'DED2', 'DED4',\n",
      "       'DED5', 'DEE0', 'DEF0', 'DEG0'],\n",
      "      dtype='object')\n",
      "   Unnamed: 0   DE11   DE12   DE13   DE14   DE21   DE22   DE23   DE24   DE25  \\\n",
      "0           0  3.237  2.329  1.884  1.546  4.780  1.108  0.992  0.768  1.336   \n",
      "1           1  3.189  2.289  1.852  1.532  4.704  1.091  0.981  0.761  1.300   \n",
      "2           2  3.101  2.234  1.803  1.495  4.589  1.068  0.958  0.738  1.256   \n",
      "3           3  3.059  2.214  1.784  1.477  4.549  1.058  0.946  0.727  1.236   \n",
      "4           4  3.042  2.209  1.766  1.468  4.511  1.045  0.933  0.716  1.217   \n",
      "5           5  3.127  2.269  1.789  1.504  4.625  1.073  0.953  0.732  1.245   \n",
      "6           6  3.178  2.309  1.824  1.521  4.662  1.084  0.964  0.745  1.280   \n",
      "\n",
      "   ...   DEB1   DEB2   DEB3   DEC0   DED2   DED4   DED5   DEE0   DEF0   DEG0  \n",
      "0  ...  1.079  0.445  3.221  1.081  1.304  0.937  1.254  3.540  2.336  1.354  \n",
      "1  ...  1.068  0.443  3.146  1.078  1.282  0.929  1.219  3.473  2.285  1.336  \n",
      "2  ...  1.045  0.433  3.154  1.069  1.253  0.903  1.204  3.480  2.223  1.297  \n",
      "3  ...  1.034  0.430  3.152  1.071  1.234  0.887  1.195  3.468  2.184  1.277  \n",
      "4  ...  1.024  0.427  3.085  1.062  1.213  0.874  1.173  3.386  2.137  1.256  \n",
      "5  ...  1.045  0.434  3.147  1.055  1.233  0.890  1.191  3.449  2.175  1.279  \n",
      "6  ...  1.065  0.442  3.160  1.075  1.254  0.907  1.199  3.455  2.204  1.305  \n",
      "\n",
      "[7 rows x 39 columns]\n"
     ]
    }
   ],
   "source": [
    "demand_df = pd.read_csv('/Users/kevin/OneDrive - University of Adelaide/MAIML/7209 Big Data Analysis and Project/Robust-Capacity-Expansion-main/InputData/Demand/El_demand_2050_DE_processed.csv')\n",
    "print(demand_df.shape)\n",
    "print(demand_df.columns)\n",
    "print(demand_df.head(7))"
   ]
  },
  {
   "cell_type": "code",
   "execution_count": 10,
   "id": "bb14f6e2",
   "metadata": {},
   "outputs": [
    {
     "name": "stdout",
     "output_type": "stream",
     "text": [
      "(38, 39)\n",
      "Index(['index', 'DE11', 'DE12', 'DE13', 'DE14', 'DE21', 'DE22', 'DE23', 'DE24',\n",
      "       'DE25', 'DE26', 'DE27', 'DE30', 'DEC0', 'DED2', 'DED4', 'DED5', 'DEE0',\n",
      "       'DEF0', 'DEG0', 'DE40', 'DE50', 'DE60', 'DE71', 'DE72', 'DE73', 'DE80',\n",
      "       'DE91', 'DE92', 'DE93', 'DE94', 'DEA1', 'DEA2', 'DEA3', 'DEA4', 'DEA5',\n",
      "       'DEB1', 'DEB2', 'DEB3'],\n",
      "      dtype='object')\n",
      "  index    DE11    DE12    DE13    DE14    DE21    DE22    DE23    DE24  \\\n",
      "0  DE11    0.00   68.99  151.48   99.63  187.90  235.27  187.33  171.22   \n",
      "1  DE12   68.99    0.00  114.90  115.37  248.73  303.73  255.05  227.24   \n",
      "2  DE13  151.48  114.90    0.00   95.66  263.20  346.42  324.87  322.50   \n",
      "3  DE14   99.63  115.37   95.66    0.00  167.97  251.65  238.62  253.95   \n",
      "4  DE21  187.90  248.73  263.20  167.97    0.00  101.50  145.60  218.45   \n",
      "5  DE22  235.27  303.73  346.42  251.65  101.50    0.00   90.33  181.67   \n",
      "6  DE23  187.33  255.05  324.87  238.62  145.60   90.33    0.00   91.43   \n",
      "\n",
      "     DE25  ...    DE93    DE94    DEA1    DEA2    DEA3    DEA4    DEA5  \\\n",
      "0   92.74  ...  462.96  454.23  344.22  284.76  360.92  329.09  279.27   \n",
      "1  158.61  ...  470.51  441.15  307.68  242.45  338.72  325.07  260.11   \n",
      "2  239.50  ...  584.55  547.53  397.33  328.38  440.67  436.83  366.06   \n",
      "3  165.39  ...  562.41  548.42  422.83  357.81  450.11  426.06  369.70   \n",
      "4  155.58  ...  581.82  607.06  524.57  469.44  528.30  476.02  447.37   \n",
      "5  162.84  ...  541.03  588.59  537.22  491.47  525.41  458.47  448.76   \n",
      "6   97.29  ...  452.43  498.40  454.15  413.00  437.65  368.54  362.72   \n",
      "\n",
      "     DEB1    DEB2    DEB3  \n",
      "0  204.78  237.76  131.41  \n",
      "1  161.65  179.90   73.24  \n",
      "2  253.36  244.72  161.64  \n",
      "3  277.01  290.72  187.23  \n",
      "4  391.03  425.31  318.23  \n",
      "5  419.58  465.81  363.76  \n",
      "6  346.01  398.49  303.54  \n",
      "\n",
      "[7 rows x 39 columns]\n"
     ]
    }
   ],
   "source": [
    "distance_df = pd.read_csv('/Users/kevin/OneDrive - University of Adelaide/MAIML/7209 Big Data Analysis and Project/Robust-Capacity-Expansion-main/InputData/Distances/Distances_NUTS2_DE.csv')\n",
    "print(distance_df.shape)\n",
    "print(distance_df.columns)\n",
    "print(distance_df.head(7))"
   ]
  },
  {
   "cell_type": "code",
   "execution_count": 11,
   "id": "32eab39f",
   "metadata": {},
   "outputs": [
    {
     "name": "stdout",
     "output_type": "stream",
     "text": [
      "(38, 39)\n",
      "Index(['Unnamed: 0', 'DE11', 'DE12', 'DE13', 'DE14', 'DE21', 'DE22', 'DE23',\n",
      "       'DE24', 'DE25', 'DE26', 'DE27', 'DE30', 'DE40', 'DE50', 'DE60', 'DE71',\n",
      "       'DE72', 'DE73', 'DE80', 'DE91', 'DE92', 'DE93', 'DE94', 'DEA1', 'DEA2',\n",
      "       'DEA3', 'DEA4', 'DEA5', 'DEB1', 'DEB2', 'DEB3', 'DEC0', 'DED2', 'DED4',\n",
      "       'DED5', 'DEE0', 'DEF0', 'DEG0'],\n",
      "      dtype='object')\n",
      "  Unnamed: 0  DE11  DE12  DE13  DE14  DE21  DE22  DE23  DE24  DE25  ...  DEB1  \\\n",
      "0       DE11     0     1     0     1     0     0     0     0     1  ...     0   \n",
      "1       DE12     1     0     1     1     0     0     0     0     0  ...     0   \n",
      "2       DE13     0     1     0     1     0     0     0     0     0  ...     0   \n",
      "3       DE14     1     1     1     0     0     0     0     0     0  ...     0   \n",
      "4       DE21     0     0     0     0     0     1     1     0     1  ...     0   \n",
      "5       DE22     0     0     0     0     1     0     1     0     0  ...     0   \n",
      "6       DE23     0     0     0     0     1     1     0     1     1  ...     0   \n",
      "\n",
      "   DEB2  DEB3  DEC0  DED2  DED4  DED5  DEE0  DEF0  DEG0  \n",
      "0     0     0     0     0     0     0     0     0     0  \n",
      "1     0     1     0     0     0     0     0     0     0  \n",
      "2     0     0     0     0     0     0     0     0     0  \n",
      "3     0     0     0     0     0     0     0     0     0  \n",
      "4     0     0     0     0     0     0     0     0     0  \n",
      "5     0     0     0     0     0     0     0     0     0  \n",
      "6     0     0     0     0     0     0     0     0     0  \n",
      "\n",
      "[7 rows x 39 columns]\n"
     ]
    }
   ],
   "source": [
    "eligibility_df = pd.read_csv('/Users/kevin/OneDrive - University of Adelaide/MAIML/7209 Big Data Analysis and Project/Robust-Capacity-Expansion-main/InputData/Distances/EligibilityNUTS2.csv')\n",
    "print(eligibility_df.shape)\n",
    "print(eligibility_df.columns)\n",
    "print(eligibility_df.head(7))"
   ]
  },
  {
   "cell_type": "code",
   "execution_count": 12,
   "id": "aed2a058",
   "metadata": {},
   "outputs": [
    {
     "name": "stdout",
     "output_type": "stream",
     "text": [
      "(38, 2)\n",
      "Index(['Unnamed: 0', 'Cap_max_GW'], dtype='object')\n",
      "  Unnamed: 0  Cap_max_GW\n",
      "0       DEF0      17.266\n",
      "1       DE60       0.386\n",
      "2       DE91       7.146\n",
      "3       DE92       9.564\n",
      "4       DE93      15.981\n",
      "5       DE94      60.690\n",
      "6       DE50       0.491\n"
     ]
    }
   ],
   "source": [
    "maxcap_openfieldpv_df = pd.read_csv('/Users/kevin/OneDrive - University of Adelaide/MAIML/7209 Big Data Analysis and Project/Robust-Capacity-Expansion-main/InputData/PV/MaxCap_NUTS2_OpenfieldPV.csv')\n",
    "print(maxcap_openfieldpv_df.shape)\n",
    "print(maxcap_openfieldpv_df.columns)\n",
    "print(maxcap_openfieldpv_df.head(7))"
   ]
  },
  {
   "cell_type": "code",
   "execution_count": 13,
   "id": "52c13713",
   "metadata": {},
   "outputs": [
    {
     "name": "stdout",
     "output_type": "stream",
     "text": [
      "(38, 2)\n",
      "Index(['Unnamed: 0', 'Cap_max_GW'], dtype='object')\n",
      "  Unnamed: 0  Cap_max_GW\n",
      "0       DEF0      20.521\n",
      "1       DE60       5.612\n",
      "2       DE91      10.381\n",
      "3       DE92      14.010\n",
      "4       DE93      14.897\n",
      "5       DE94      24.026\n",
      "6       DE50       2.833\n"
     ]
    }
   ],
   "source": [
    "maxcap_rooftoppv_df = pd.read_csv('/Users/kevin/OneDrive - University of Adelaide/MAIML/7209 Big Data Analysis and Project/Robust-Capacity-Expansion-main/InputData/PV/MaxCap_NUTS2_RoofTopPV.csv')\n",
    "print(maxcap_rooftoppv_df.shape)\n",
    "print(maxcap_rooftoppv_df.columns)\n",
    "print(maxcap_rooftoppv_df.head(7))"
   ]
  },
  {
   "cell_type": "code",
   "execution_count": 21,
   "id": "bbc28f55",
   "metadata": {},
   "outputs": [
    {
     "name": "stdout",
     "output_type": "stream",
     "text": [
      "(350400, 40)\n",
      "Index(['Year', 'Unnamed: 0', 'DE11', 'DE12', 'DE13', 'DE14', 'DE21', 'DE22',\n",
      "       'DE23', 'DE24', 'DE25', 'DE26', 'DE27', 'DE30', 'DE40', 'DE50', 'DE60',\n",
      "       'DE71', 'DE72', 'DE73', 'DE80', 'DE91', 'DE92', 'DE93', 'DE94', 'DEA1',\n",
      "       'DEA2', 'DEA3', 'DEA4', 'DEA5', 'DEB1', 'DEB2', 'DEB3', 'DEC0', 'DED2',\n",
      "       'DED4', 'DED5', 'DEE0', 'DEF0', 'DEG0'],\n",
      "      dtype='object')\n",
      "   Year  Unnamed: 0  DE11  DE12  DE13  DE14  DE21  DE22  DE23  DE24  ...  \\\n",
      "0  1980           0   0.0   0.0   0.0   0.0   0.0   0.0   0.0   0.0  ...   \n",
      "1  1980           1   0.0   0.0   0.0   0.0   0.0   0.0   0.0   0.0  ...   \n",
      "2  1980           2   0.0   0.0   0.0   0.0   0.0   0.0   0.0   0.0  ...   \n",
      "3  1980           3   0.0   0.0   0.0   0.0   0.0   0.0   0.0   0.0  ...   \n",
      "4  1980           4   0.0   0.0   0.0   0.0   0.0   0.0   0.0   0.0  ...   \n",
      "\n",
      "   DEB1  DEB2  DEB3  DEC0  DED2  DED4  DED5  DEE0  DEF0  DEG0  \n",
      "0   0.0   0.0   0.0   0.0   0.0   0.0   0.0   0.0   0.0   0.0  \n",
      "1   0.0   0.0   0.0   0.0   0.0   0.0   0.0   0.0   0.0   0.0  \n",
      "2   0.0   0.0   0.0   0.0   0.0   0.0   0.0   0.0   0.0   0.0  \n",
      "3   0.0   0.0   0.0   0.0   0.0   0.0   0.0   0.0   0.0   0.0  \n",
      "4   0.0   0.0   0.0   0.0   0.0   0.0   0.0   0.0   0.0   0.0  \n",
      "\n",
      "[5 rows x 40 columns]\n",
      "        Year  Unnamed: 0  DE11  DE12  DE13  DE14  DE21  DE22  DE23  DE24  ...  \\\n",
      "350395  2019        8755   0.0   0.0   0.0   0.0   0.0   0.0   0.0   0.0  ...   \n",
      "350396  2019        8756   0.0   0.0   0.0   0.0   0.0   0.0   0.0   0.0  ...   \n",
      "350397  2019        8757   0.0   0.0   0.0   0.0   0.0   0.0   0.0   0.0  ...   \n",
      "350398  2019        8758   0.0   0.0   0.0   0.0   0.0   0.0   0.0   0.0  ...   \n",
      "350399  2019        8759   0.0   0.0   0.0   0.0   0.0   0.0   0.0   0.0  ...   \n",
      "\n",
      "        DEB1  DEB2  DEB3  DEC0  DED2  DED4  DED5  DEE0  DEF0  DEG0  \n",
      "350395   0.0   0.0   0.0   0.0   0.0   0.0   0.0   0.0   0.0   0.0  \n",
      "350396   0.0   0.0   0.0   0.0   0.0   0.0   0.0   0.0   0.0   0.0  \n",
      "350397   0.0   0.0   0.0   0.0   0.0   0.0   0.0   0.0   0.0   0.0  \n",
      "350398   0.0   0.0   0.0   0.0   0.0   0.0   0.0   0.0   0.0   0.0  \n",
      "350399   0.0   0.0   0.0   0.0   0.0   0.0   0.0   0.0   0.0   0.0  \n",
      "\n",
      "[5 rows x 40 columns]\n"
     ]
    }
   ],
   "source": [
    "# PV data processing\n",
    "\n",
    "data_dir = '/Users/kevin/OneDrive - University of Adelaide/MAIML/7209 Big Data Analysis and Project/Robust-Capacity-Expansion-main/InputData/PV'\n",
    "years = range(1980, 2020)\n",
    "\n",
    "dfs = []\n",
    "\n",
    "for year in years:\n",
    "    filename = f'PVdata{year}.csv'\n",
    "    filepath = os.path.join(data_dir, filename)\n",
    "\n",
    "    df = pd.read_csv(filepath)\n",
    "    df['Year'] = year\n",
    "\n",
    "    dfs.append(df)\n",
    "\n",
    "pv_df = pd.concat(dfs, ignore_index=True)\n",
    "\n",
    "cols = pv_df.columns.tolist()\n",
    "cols.insert(0, cols.pop(cols.index('Year')))\n",
    "pv_df = pv_df[cols]\n",
    "\n",
    "print(pv_df.shape)\n",
    "print(pv_df.columns)\n",
    "print(pv_df.head(5))\n",
    "print(pv_df.tail(5))\n"
   ]
  },
  {
   "cell_type": "code",
   "execution_count": 20,
   "id": "617b7bed",
   "metadata": {},
   "outputs": [
    {
     "name": "stdout",
     "output_type": "stream",
     "text": [
      "(38, 2)\n",
      "Index(['Unnamed: 0', 'Cap_max_GW'], dtype='object')\n",
      "  Unnamed: 0  Cap_max_GW\n",
      "0       DEF0       12.65\n",
      "1       DE60        0.00\n",
      "2       DE91        0.00\n",
      "3       DE92        0.00\n",
      "4       DE93       12.65\n",
      "5       DE94       12.65\n",
      "6       DE50       12.65\n"
     ]
    }
   ],
   "source": [
    "maxcap_windoffshore_df = pd.read_csv('/Users/kevin/OneDrive - University of Adelaide/MAIML/7209 Big Data Analysis and Project/Robust-Capacity-Expansion-main/InputData/WindOffshore/MaxCap_NUTS2_WindOffshore.csv')\n",
    "print(maxcap_windoffshore_df.shape)\n",
    "print(maxcap_windoffshore_df.columns)\n",
    "print(maxcap_windoffshore_df.head(7))"
   ]
  },
  {
   "cell_type": "code",
   "execution_count": 22,
   "id": "feadafe5",
   "metadata": {},
   "outputs": [
    {
     "name": "stdout",
     "output_type": "stream",
     "text": [
      "(350400, 40)\n",
      "Index(['Year', 'Unnamed: 0', 'DEF0', 'DE60', 'DE91', 'DE92', 'DE93', 'DE94',\n",
      "       'DE50', 'DEA1', 'DEA2', 'DEA3', 'DEA4', 'DEA5', 'DE71', 'DE72', 'DE73',\n",
      "       'DEB1', 'DEB2', 'DEB3', 'DE11', 'DE12', 'DE13', 'DE14', 'DE21', 'DE22',\n",
      "       'DE23', 'DE24', 'DE25', 'DE26', 'DE27', 'DEC0', 'DE30', 'DE40', 'DE80',\n",
      "       'DED4', 'DED2', 'DED5', 'DEE0', 'DEG0'],\n",
      "      dtype='object')\n",
      "   Year  Unnamed: 0   DEF0   DE60   DE91   DE92   DE93   DE94   DE50   DEA1  \\\n",
      "0  1980           0  0.425  0.425  0.425  0.425  0.425  0.425  0.425  0.425   \n",
      "1  1980           1  0.421  0.421  0.421  0.421  0.421  0.421  0.421  0.421   \n",
      "2  1980           2  0.418  0.418  0.418  0.418  0.418  0.418  0.418  0.418   \n",
      "3  1980           3  0.423  0.423  0.423  0.423  0.423  0.423  0.423  0.423   \n",
      "4  1980           4  0.422  0.422  0.422  0.422  0.422  0.422  0.422  0.422   \n",
      "\n",
      "   ...   DE27   DEC0   DE30   DE40   DE80   DED4   DED2   DED5   DEE0   DEG0  \n",
      "0  ...  0.425  0.425  0.425  0.425  0.425  0.425  0.425  0.425  0.425  0.425  \n",
      "1  ...  0.421  0.421  0.421  0.421  0.421  0.421  0.421  0.421  0.421  0.421  \n",
      "2  ...  0.418  0.418  0.418  0.418  0.418  0.418  0.418  0.418  0.418  0.418  \n",
      "3  ...  0.423  0.423  0.423  0.423  0.423  0.423  0.423  0.423  0.423  0.423  \n",
      "4  ...  0.422  0.422  0.422  0.422  0.422  0.422  0.422  0.422  0.422  0.422  \n",
      "\n",
      "[5 rows x 40 columns]\n",
      "        Year  Unnamed: 0   DEF0   DE60   DE91   DE92   DE93   DE94   DE50  \\\n",
      "350395  2019        8755  0.105  0.105  0.105  0.105  0.105  0.105  0.105   \n",
      "350396  2019        8756  0.090  0.090  0.090  0.090  0.090  0.090  0.090   \n",
      "350397  2019        8757  0.087  0.087  0.087  0.087  0.087  0.087  0.087   \n",
      "350398  2019        8758  0.092  0.092  0.092  0.092  0.092  0.092  0.092   \n",
      "350399  2019        8759  0.113  0.113  0.113  0.113  0.113  0.113  0.113   \n",
      "\n",
      "         DEA1  ...   DE27   DEC0   DE30   DE40   DE80   DED4   DED2   DED5  \\\n",
      "350395  0.105  ...  0.105  0.105  0.105  0.105  0.105  0.105  0.105  0.105   \n",
      "350396  0.090  ...  0.090  0.090  0.090  0.090  0.090  0.090  0.090  0.090   \n",
      "350397  0.087  ...  0.087  0.087  0.087  0.087  0.087  0.087  0.087  0.087   \n",
      "350398  0.092  ...  0.092  0.092  0.092  0.092  0.092  0.092  0.092  0.092   \n",
      "350399  0.113  ...  0.113  0.113  0.113  0.113  0.113  0.113  0.113  0.113   \n",
      "\n",
      "         DEE0   DEG0  \n",
      "350395  0.105  0.105  \n",
      "350396  0.090  0.090  \n",
      "350397  0.087  0.087  \n",
      "350398  0.092  0.092  \n",
      "350399  0.113  0.113  \n",
      "\n",
      "[5 rows x 40 columns]\n"
     ]
    }
   ],
   "source": [
    "# WindOffshore data processing\n",
    "\n",
    "data_dir = '/Users/kevin/OneDrive - University of Adelaide/MAIML/7209 Big Data Analysis and Project/Robust-Capacity-Expansion-main/InputData/WindOffshore'\n",
    "years = range(1980, 2020)\n",
    "\n",
    "dfs = []\n",
    "\n",
    "for year in years:\n",
    "    filename = f'OffshoreData{year}.csv'\n",
    "    filepath = os.path.join(data_dir, filename)\n",
    "\n",
    "    df = pd.read_csv(filepath)\n",
    "    df['Year'] = year\n",
    "\n",
    "    dfs.append(df)\n",
    "\n",
    "windoffshore_df = pd.concat(dfs, ignore_index=True)\n",
    "\n",
    "cols = windoffshore_df.columns.tolist()\n",
    "cols.insert(0, cols.pop(cols.index('Year')))\n",
    "windoffshore_df = windoffshore_df[cols]\n",
    "\n",
    "print(windoffshore_df.shape)\n",
    "print(windoffshore_df.columns)\n",
    "print(windoffshore_df.head(5))\n",
    "print(windoffshore_df.tail(5))\n"
   ]
  },
  {
   "cell_type": "code",
   "execution_count": 23,
   "id": "317a3ee8",
   "metadata": {},
   "outputs": [
    {
     "name": "stdout",
     "output_type": "stream",
     "text": [
      "(350400, 40)\n",
      "Index(['Year', 'Unnamed: 0', 'DE11', 'DE12', 'DE13', 'DE14', 'DE21', 'DE22',\n",
      "       'DE23', 'DE24', 'DE25', 'DE26', 'DE27', 'DE30', 'DE40', 'DE50', 'DE60',\n",
      "       'DE71', 'DE72', 'DE73', 'DE80', 'DE91', 'DE92', 'DE93', 'DE94', 'DEA1',\n",
      "       'DEA2', 'DEA3', 'DEA4', 'DEA5', 'DEB1', 'DEB2', 'DEB3', 'DEC0', 'DED2',\n",
      "       'DED4', 'DED5', 'DEE0', 'DEF0', 'DEG0'],\n",
      "      dtype='object')\n",
      "   Year  Unnamed: 0   DE11   DE12   DE13   DE14   DE21   DE22   DE23   DE24  \\\n",
      "0  1980           0  0.310  0.298  0.141  0.396  0.427  0.376  0.345  0.244   \n",
      "1  1980           1  0.297  0.268  0.108  0.376  0.488  0.390  0.371  0.272   \n",
      "2  1980           2  0.335  0.266  0.102  0.383  0.507  0.445  0.400  0.299   \n",
      "3  1980           3  0.344  0.276  0.100  0.391  0.507  0.432  0.411  0.319   \n",
      "4  1980           4  0.315  0.262  0.094  0.390  0.473  0.390  0.426  0.342   \n",
      "\n",
      "   ...   DEB1   DEB2   DEB3   DEC0   DED2   DED4   DED5   DEE0   DEF0   DEG0  \n",
      "0  ...  0.282  0.207  0.279  0.169  0.405  0.364  0.430  0.336  0.018  0.323  \n",
      "1  ...  0.254  0.179  0.237  0.161  0.430  0.302  0.367  0.328  0.024  0.314  \n",
      "2  ...  0.227  0.198  0.207  0.172  0.346  0.296  0.350  0.319  0.032  0.327  \n",
      "3  ...  0.206  0.162  0.219  0.142  0.352  0.294  0.351  0.289  0.045  0.355  \n",
      "4  ...  0.216  0.157  0.223  0.147  0.404  0.293  0.364  0.277  0.074  0.369  \n",
      "\n",
      "[5 rows x 40 columns]\n",
      "        Year  Unnamed: 0   DE11   DE12   DE13   DE14   DE21   DE22   DE23  \\\n",
      "350395  2019        8755  0.074  0.104  0.091  0.059  0.026  0.052  0.030   \n",
      "350396  2019        8756  0.069  0.113  0.099  0.090  0.019  0.018  0.012   \n",
      "350397  2019        8757  0.060  0.106  0.071  0.085  0.014  0.008  0.004   \n",
      "350398  2019        8758  0.057  0.103  0.065  0.062  0.009  0.006  0.002   \n",
      "350399  2019        8759  0.057  0.096  0.058  0.047  0.008  0.006  0.001   \n",
      "\n",
      "         DE24  ...   DEB1   DEB2   DEB3   DEC0   DED2   DED4   DED5   DEE0  \\\n",
      "350395  0.031  ...  0.081  0.118  0.099  0.124  0.222  0.121  0.165  0.141   \n",
      "350396  0.028  ...  0.086  0.114  0.086  0.125  0.193  0.111  0.148  0.117   \n",
      "350397  0.027  ...  0.087  0.109  0.074  0.111  0.170  0.101  0.129  0.097   \n",
      "350398  0.023  ...  0.087  0.098  0.072  0.094  0.143  0.086  0.110  0.077   \n",
      "350399  0.014  ...  0.085  0.084  0.070  0.082  0.120  0.071  0.090  0.061   \n",
      "\n",
      "         DEF0   DEG0  \n",
      "350395  0.151  0.070  \n",
      "350396  0.126  0.072  \n",
      "350397  0.115  0.067  \n",
      "350398  0.116  0.055  \n",
      "350399  0.131  0.041  \n",
      "\n",
      "[5 rows x 40 columns]\n"
     ]
    }
   ],
   "source": [
    "# WindOnshore data processing\n",
    "\n",
    "data_dir = '/Users/kevin/OneDrive - University of Adelaide/MAIML/7209 Big Data Analysis and Project/Robust-Capacity-Expansion-main/InputData/WindOnshore'\n",
    "years = range(1980, 2020)\n",
    "\n",
    "dfs = []\n",
    "\n",
    "for year in years:\n",
    "    filename = f'Winddata{year}.csv'\n",
    "    filepath = os.path.join(data_dir, filename)\n",
    "\n",
    "    df = pd.read_csv(filepath)\n",
    "    df['Year'] = year\n",
    "\n",
    "    dfs.append(df)\n",
    "\n",
    "windonshore_df = pd.concat(dfs, ignore_index=True)\n",
    "\n",
    "cols = windonshore_df.columns.tolist()\n",
    "cols.insert(0, cols.pop(cols.index('Year')))\n",
    "windonshore_df = windonshore_df[cols]\n",
    "\n",
    "print(windonshore_df.shape)\n",
    "print(windonshore_df.columns)\n",
    "print(windonshore_df.head(5))\n",
    "print(windonshore_df.tail(5))"
   ]
  },
  {
   "cell_type": "code",
   "execution_count": 25,
   "id": "d5094183",
   "metadata": {},
   "outputs": [
    {
     "name": "stdout",
     "output_type": "stream",
     "text": [
      "(1, 38)\n",
      "Index(['DE40', 'DE50', 'DE60', 'DE80', 'DE91', 'DE92', 'DE93', 'DE94', 'DEE0',\n",
      "       'DEF0', 'DEA1', 'DEA2', 'DEA3', 'DEA4', 'DEA5', 'DE71', 'DE72', 'DE73',\n",
      "       'DEB1', 'DEB2', 'DEB3', 'DE11', 'DE12', 'DE13', 'DE14', 'DE21', 'DE22',\n",
      "       'DE23', 'DE24', 'DE25', 'DE26', 'DE27', 'DEC0', 'DE30', 'DED4', 'DED2',\n",
      "       'DED5', 'DEG0'],\n",
      "      dtype='object')\n",
      "      DE40     DE50     DE60     DE80     DE91     DE92     DE93     DE94  \\\n",
      "0  3000000  3000000  3000000  3000000  3000000  3000000  3000000  3000000   \n",
      "\n",
      "      DEE0     DEF0  ...  DE24  DE25  DE26  DE27  DEC0  DE30  DED4  DED2  \\\n",
      "0  3000000  3000000  ...     0     0     0     0     0     0     0     0   \n",
      "\n",
      "   DED5  DEG0  \n",
      "0     0     0  \n",
      "\n",
      "[1 rows x 38 columns]\n"
     ]
    }
   ],
   "source": [
    "maxcap_hydrogencaverns_df = pd.read_csv('/Users/kevin/OneDrive - University of Adelaide/MAIML/7209 Big Data Analysis and Project/Robust-Capacity-Expansion-main/InputData/Salt Caverns/Hydrogencaverns_NUTS2_maxCap.csv')\n",
    "print(maxcap_hydrogencaverns_df.shape)\n",
    "print(maxcap_hydrogencaverns_df.columns)\n",
    "print(maxcap_hydrogencaverns_df.head())"
   ]
  },
  {
   "cell_type": "code",
   "execution_count": null,
   "id": "57f13e8a",
   "metadata": {},
   "outputs": [],
   "source": []
  }
 ],
 "metadata": {
  "kernelspec": {
   "display_name": "mbd",
   "language": "python",
   "name": "python3"
  },
  "language_info": {
   "codemirror_mode": {
    "name": "ipython",
    "version": 3
   },
   "file_extension": ".py",
   "mimetype": "text/x-python",
   "name": "python",
   "nbconvert_exporter": "python",
   "pygments_lexer": "ipython3",
   "version": "3.11.8"
  }
 },
 "nbformat": 4,
 "nbformat_minor": 5
}
