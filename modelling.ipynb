{
 "cells": [
  {
   "cell_type": "markdown",
   "id": "1d1d31e2",
   "metadata": {},
   "source": [
    "# Decentralised Optimisation with Graph Neural Networks and Edge AI"
   ]
  },
  {
   "cell_type": "markdown",
   "id": "1ae1f26c",
   "metadata": {},
   "source": [
    "Name: Kevin Fastje  \n",
    "Student ID: a1933491"
   ]
  },
  {
   "cell_type": "markdown",
   "id": "d1565e80",
   "metadata": {},
   "source": [
    "## Assignment 3: Part C – Big Data Analysis"
   ]
  },
  {
   "cell_type": "code",
   "execution_count": 1,
   "id": "d904ab0d",
   "metadata": {},
   "outputs": [
    {
     "name": "stderr",
     "output_type": "stream",
     "text": [
      "/opt/anaconda3/envs/mbd/lib/python3.11/site-packages/torch_geometric/typing.py:86: UserWarning: An issue occurred while importing 'torch-scatter'. Disabling its usage. Stacktrace: dlopen(/opt/anaconda3/envs/mbd/lib/python3.11/site-packages/torch_scatter/_version_cpu.so, 0x0006): symbol not found in flat namespace '__ZN3c1017RegisterOperatorsD1Ev'\n",
      "  warnings.warn(f\"An issue occurred while importing 'torch-scatter'. \"\n",
      "/opt/anaconda3/envs/mbd/lib/python3.11/site-packages/torch_geometric/typing.py:97: UserWarning: An issue occurred while importing 'torch-cluster'. Disabling its usage. Stacktrace: dlopen(/opt/anaconda3/envs/mbd/lib/python3.11/site-packages/torch_cluster/_version_cpu.so, 0x0006): symbol not found in flat namespace '__ZN3c1017RegisterOperatorsD1Ev'\n",
      "  warnings.warn(f\"An issue occurred while importing 'torch-cluster'. \"\n",
      "/opt/anaconda3/envs/mbd/lib/python3.11/site-packages/torch_geometric/typing.py:113: UserWarning: An issue occurred while importing 'torch-spline-conv'. Disabling its usage. Stacktrace: dlopen(/opt/anaconda3/envs/mbd/lib/python3.11/site-packages/torch_spline_conv/_version_cpu.so, 0x0006): symbol not found in flat namespace '__ZN3c1017RegisterOperatorsD1Ev'\n",
      "  warnings.warn(\n",
      "/opt/anaconda3/envs/mbd/lib/python3.11/site-packages/torch_geometric/typing.py:124: UserWarning: An issue occurred while importing 'torch-sparse'. Disabling its usage. Stacktrace: dlopen(/opt/anaconda3/envs/mbd/lib/python3.11/site-packages/torch_sparse/_version_cpu.so, 0x0006): symbol not found in flat namespace '__ZN3c1017RegisterOperatorsD1Ev'\n",
      "  warnings.warn(f\"An issue occurred while importing 'torch-sparse'. \"\n"
     ]
    },
    {
     "name": "stdout",
     "output_type": "stream",
     "text": [
      "Using mps\n"
     ]
    }
   ],
   "source": [
    "# Import necessary libraries\n",
    "import pandas as pd\n",
    "import os\n",
    "import networkx as nx\n",
    "from functools import reduce\n",
    "import geopandas as gpd\n",
    "import matplotlib.pyplot as plt\n",
    "import matplotlib.cm as cm\n",
    "\n",
    "import numpy as np\n",
    "import seaborn as sns\n",
    "\n",
    "from sklearn.preprocessing import StandardScaler\n",
    "\n",
    "import torch\n",
    "from torch_geometric.utils import dense_to_sparse\n",
    "from torch_geometric.data import Data\n",
    "from torch_geometric.loader import DataLoader\n",
    "\n",
    "import torch\n",
    "from gcn_model import GCN, train_gcn\n",
    "from sage_model import GraphSAGE, train_sage\n",
    "from gat_model import GAT, train_gat\n",
    "from evaluate_model import evaluate_model\n",
    "\n",
    "import time, json, math\n",
    "from torch.nn import L1Loss\n",
    "from torch.optim import AdamW\n",
    "\n",
    "torch.manual_seed(0)\n",
    "\n",
    "# Set device for PyTorch\n",
    "device = (\n",
    "    torch.device(\"mps\")  if torch.backends.mps.is_available()  else\n",
    "    torch.device(\"cuda\") if torch.cuda.is_available()          else\n",
    "    torch.device(\"cpu\")\n",
    ")\n",
    "\n",
    "print(\"Using\", device)\n"
   ]
  },
  {
   "cell_type": "markdown",
   "id": "29d5586b",
   "metadata": {},
   "source": [
    "### 1. Data Pre-processing"
   ]
  },
  {
   "cell_type": "code",
   "execution_count": 2,
   "id": "700ee8b7",
   "metadata": {},
   "outputs": [],
   "source": [
    "# load data from part B\n",
    "demand_df = pd.read_csv('/Users/kevin/Downloads/demand_data.csv')\n",
    "energy_df      = pd.read_csv('/Users/kevin/Downloads/energy_data.csv', index_col=0)\n",
    "distance_df    = pd.read_csv('/Users/kevin/Downloads/distance_data.csv', index_col=0)\n",
    "eligibility_df = pd.read_csv('/Users/kevin/Downloads/eligibility_data.csv', index_col=0)\n"
   ]
  },
  {
   "cell_type": "code",
   "execution_count": 3,
   "id": "100a5e2f",
   "metadata": {},
   "outputs": [],
   "source": [
    "# Ensure all indices and columns are strings for consistency\n",
    "eligibility_df.index = eligibility_df.index.astype(str)\n",
    "eligibility_df.columns = eligibility_df.columns.astype(str)\n",
    "\n",
    "distance_df.index = distance_df.index.astype(str)\n",
    "distance_df.columns = distance_df.columns.astype(str)"
   ]
  },
  {
   "cell_type": "code",
   "execution_count": 4,
   "id": "50382620",
   "metadata": {},
   "outputs": [],
   "source": [
    "# Set timeststamp as index for demand_df\n",
    "demand_df = demand_df.set_index('timestamp')\n",
    "# Sort the DataFrame by index (timestamp)\n",
    "demand_df = demand_df.sort_index()"
   ]
  },
  {
   "cell_type": "code",
   "execution_count": 5,
   "id": "3e5d1a40",
   "metadata": {},
   "outputs": [
    {
     "name": "stdout",
     "output_type": "stream",
     "text": [
      "<class 'pandas.core.frame.DataFrame'>\n",
      "Index: 8760 entries, 2050-01-01 00:00:00 to 2050-12-31 23:00:00\n",
      "Data columns (total 38 columns):\n",
      " #   Column  Non-Null Count  Dtype  \n",
      "---  ------  --------------  -----  \n",
      " 0   DE11    8760 non-null   float64\n",
      " 1   DE12    8760 non-null   float64\n",
      " 2   DE13    8760 non-null   float64\n",
      " 3   DE14    8760 non-null   float64\n",
      " 4   DE21    8760 non-null   float64\n",
      " 5   DE22    8760 non-null   float64\n",
      " 6   DE23    8760 non-null   float64\n",
      " 7   DE24    8760 non-null   float64\n",
      " 8   DE25    8760 non-null   float64\n",
      " 9   DE26    8760 non-null   float64\n",
      " 10  DE27    8760 non-null   float64\n",
      " 11  DE30    8760 non-null   float64\n",
      " 12  DE40    8760 non-null   float64\n",
      " 13  DE50    8760 non-null   float64\n",
      " 14  DE60    8760 non-null   float64\n",
      " 15  DE71    8760 non-null   float64\n",
      " 16  DE72    8760 non-null   float64\n",
      " 17  DE73    8760 non-null   float64\n",
      " 18  DE80    8760 non-null   float64\n",
      " 19  DE91    8760 non-null   float64\n",
      " 20  DE92    8760 non-null   float64\n",
      " 21  DE93    8760 non-null   float64\n",
      " 22  DE94    8760 non-null   float64\n",
      " 23  DEA1    8760 non-null   float64\n",
      " 24  DEA2    8760 non-null   float64\n",
      " 25  DEA3    8760 non-null   float64\n",
      " 26  DEA4    8760 non-null   float64\n",
      " 27  DEA5    8760 non-null   float64\n",
      " 28  DEB1    8760 non-null   float64\n",
      " 29  DEB2    8760 non-null   float64\n",
      " 30  DEB3    8760 non-null   float64\n",
      " 31  DEC0    8760 non-null   float64\n",
      " 32  DED2    8760 non-null   float64\n",
      " 33  DED4    8760 non-null   float64\n",
      " 34  DED5    8760 non-null   float64\n",
      " 35  DEE0    8760 non-null   float64\n",
      " 36  DEF0    8760 non-null   float64\n",
      " 37  DEG0    8760 non-null   float64\n",
      "dtypes: float64(38)\n",
      "memory usage: 2.6+ MB\n",
      "Index dtype: object\n",
      "Hours 8760\n",
      "Regions Example: ['DE11', 'DE12', 'DE13', 'DE14', 'DE21']\n"
     ]
    }
   ],
   "source": [
    "# Check the demand_df DataFrame\n",
    "demand_df.head()\n",
    "demand_df.info()\n",
    "print('Index dtype:', demand_df.index.dtype)\n",
    "print('Hours', len(demand_df))\n",
    "print('Regions Example:', demand_df.columns[:5].tolist())"
   ]
  },
  {
   "cell_type": "code",
   "execution_count": 6,
   "id": "b4615492",
   "metadata": {},
   "outputs": [],
   "source": [
    "# # imports\n",
    "# import pandas as pd\n",
    "# from pathlib import Path\n",
    "# import regional_optimiser as ropt\n",
    "\n",
    "# # load demand and align timestamps\n",
    "# demand_df = pd.read_csv('/Users/kevin/Downloads/demand_data.csv', index_col=0, parse_dates=True)\n",
    "# demand_df['timestamp'] = pd.date_range('2050-01-01', periods=8760, freq='h')\n",
    "# demand_df = demand_df.set_index('timestamp')\n",
    "\n",
    "# # load energy data\n",
    "# energy_df = pd.read_csv('/Users/kevin/Downloads/energy_data.csv', parse_dates=['timestamp'])\n",
    "\n",
    "# # process yearly data\n",
    "# all_results = []\n",
    "\n",
    "# for year in range(2000, 2020):\n",
    "#     print(f'🔧 Processing year {year} …')\n",
    "\n",
    "#     # filter energy data for current year\n",
    "#     energy_y = energy_df[energy_df['timestamp'].dt.year == year].copy()\n",
    "\n",
    "#     # reshape energy data to long format\n",
    "#     energy_long = energy_y.melt(\n",
    "#         id_vars=['timestamp', 'region'],\n",
    "#         value_vars=['pv', 'wind_onshore', 'wind_offshore'],\n",
    "#         var_name='tech',\n",
    "#         value_name='cf'\n",
    "#     )\n",
    "\n",
    "#     # pivot to wide format with multi-index columns\n",
    "#     energy = energy_long.pivot_table(\n",
    "#         index='timestamp',\n",
    "#         columns=['tech', 'region'],\n",
    "#         values='cf'\n",
    "#     )\n",
    "\n",
    "#     # align index with demand timestamps\n",
    "#     energy.index = demand_df.index\n",
    "\n",
    "#     # optimise regional mix\n",
    "#     regional_mix_df = ropt.optimise_region_mix(energy, demand_df)\n",
    "#     regional_mix_df['year'] = year\n",
    "\n",
    "#     # store result\n",
    "#     all_results.append(regional_mix_df)\n",
    "\n",
    "# # concatenate all years\n",
    "# labels_df = pd.concat(all_results)\n",
    "\n",
    "# # reorder columns and export\n",
    "# labels_df = labels_df[['region', 'pv', 'wind_onshore', 'wind_offshore', 'year']]\n",
    "# labels_df.to_csv('regional_labels_all_years.csv', index=False)\n",
    "# print('Saved results to regional_labels_all_years.csv')\n"
   ]
  },
  {
   "cell_type": "code",
   "execution_count": 7,
   "id": "716134ff",
   "metadata": {},
   "outputs": [],
   "source": [
    "# Load regional labels created by gurobi optimisation\n",
    "labels_df = pd.read_csv('regional_labels_all_years.csv', index_col=0)"
   ]
  },
  {
   "cell_type": "code",
   "execution_count": 8,
   "id": "2cfd10e1",
   "metadata": {},
   "outputs": [
    {
     "name": "stdout",
     "output_type": "stream",
     "text": [
      "Columns: ['pv', 'wind_onshore', 'wind_offshore', 'year']\n",
      "Number of Rows: 760\n"
     ]
    }
   ],
   "source": [
    "# inspect labels\n",
    "labels_df.head()\n",
    "labels_df['year'].unique()[:5]\n",
    "print('Columns:', labels_df.columns.tolist())\n",
    "print('Number of Rows:', len(labels_df))"
   ]
  },
  {
   "cell_type": "code",
   "execution_count": 9,
   "id": "cad78555",
   "metadata": {},
   "outputs": [
    {
     "name": "stdout",
     "output_type": "stream",
     "text": [
      "Index(['DE11', 'DE12', 'DE13', 'DE14', 'DE21'], dtype='object', name='region')\n",
      "Index name: region\n"
     ]
    }
   ],
   "source": [
    "# Check the index of the labels_df DataFrame\n",
    "print(labels_df.index[:5])\n",
    "print('Index name:', labels_df.index.name)"
   ]
  },
  {
   "cell_type": "code",
   "execution_count": 10,
   "id": "8aada3f6",
   "metadata": {},
   "outputs": [
    {
     "name": "stdout",
     "output_type": "stream",
     "text": [
      "Shape: (38, 38)\n",
      "Index name: None\n",
      "Example columns: ['DE11', 'DE12', 'DE13', 'DE14', 'DE21']\n",
      "Example values:\n",
      "       DE11  DE12  DE13\n",
      "DE11     0     1     0\n",
      "DE12     1     0     1\n",
      "DE13     0     1     0\n"
     ]
    }
   ],
   "source": [
    "# eligibility inspection\n",
    "print('Shape:', eligibility_df.shape)\n",
    "print('Index name:', eligibility_df.index.name)\n",
    "print('Example columns:', eligibility_df.columns[:5].tolist())\n",
    "print('Example values:\\n', eligibility_df.iloc[:3, :3])"
   ]
  },
  {
   "cell_type": "code",
   "execution_count": 11,
   "id": "8f619918",
   "metadata": {},
   "outputs": [
    {
     "name": "stdout",
     "output_type": "stream",
     "text": [
      "Shape: (38, 38)\n",
      "Index name: index\n",
      "Example columns: ['DE11', 'DE12', 'DE13', 'DE14', 'DE21']\n",
      "Example values:          DE11    DE12    DE13\n",
      "index                        \n",
      "DE11     0.00   68.99  151.48\n",
      "DE12    68.99    0.00  114.90\n",
      "DE13   151.48  114.90    0.00\n"
     ]
    }
   ],
   "source": [
    "# distance_df inspection\n",
    "print('Shape:', distance_df.shape)\n",
    "print('Index name:', distance_df.index.name)\n",
    "print('Example columns:', distance_df.columns[:5].tolist())\n",
    "print('Example values:', distance_df.iloc[:3, :3])\n"
   ]
  },
  {
   "cell_type": "code",
   "execution_count": 12,
   "id": "87e7a519",
   "metadata": {},
   "outputs": [
    {
     "data": {
      "text/html": [
       "<div>\n",
       "<style scoped>\n",
       "    .dataframe tbody tr th:only-of-type {\n",
       "        vertical-align: middle;\n",
       "    }\n",
       "\n",
       "    .dataframe tbody tr th {\n",
       "        vertical-align: top;\n",
       "    }\n",
       "\n",
       "    .dataframe thead th {\n",
       "        text-align: right;\n",
       "    }\n",
       "</style>\n",
       "<table border=\"1\" class=\"dataframe\">\n",
       "  <thead>\n",
       "    <tr style=\"text-align: right;\">\n",
       "      <th></th>\n",
       "      <th>mean_demand</th>\n",
       "    </tr>\n",
       "  </thead>\n",
       "  <tbody>\n",
       "    <tr>\n",
       "      <th>DE11</th>\n",
       "      <td>1.183716</td>\n",
       "    </tr>\n",
       "    <tr>\n",
       "      <th>DE12</th>\n",
       "      <td>0.350520</td>\n",
       "    </tr>\n",
       "    <tr>\n",
       "      <th>DE13</th>\n",
       "      <td>-0.029338</td>\n",
       "    </tr>\n",
       "    <tr>\n",
       "      <th>DE14</th>\n",
       "      <td>-0.352661</td>\n",
       "    </tr>\n",
       "    <tr>\n",
       "      <th>DE21</th>\n",
       "      <td>2.032245</td>\n",
       "    </tr>\n",
       "  </tbody>\n",
       "</table>\n",
       "</div>"
      ],
      "text/plain": [
       "      mean_demand\n",
       "DE11     1.183716\n",
       "DE12     0.350520\n",
       "DE13    -0.029338\n",
       "DE14    -0.352661\n",
       "DE21     2.032245"
      ]
     },
     "execution_count": 12,
     "metadata": {},
     "output_type": "execute_result"
    }
   ],
   "source": [
    "# scale mean demand\n",
    "demand = demand_df.mean().to_frame(name='mean_demand')\n",
    "scaler = StandardScaler()\n",
    "demand['mean_demand'] = scaler.fit_transform(demand[['mean_demand']])\n",
    "demand.head()"
   ]
  },
  {
   "cell_type": "code",
   "execution_count": 13,
   "id": "297010fa",
   "metadata": {},
   "outputs": [
    {
     "data": {
      "text/html": [
       "<div>\n",
       "<style scoped>\n",
       "    .dataframe tbody tr th:only-of-type {\n",
       "        vertical-align: middle;\n",
       "    }\n",
       "\n",
       "    .dataframe tbody tr th {\n",
       "        vertical-align: top;\n",
       "    }\n",
       "\n",
       "    .dataframe thead th {\n",
       "        text-align: right;\n",
       "    }\n",
       "</style>\n",
       "<table border=\"1\" class=\"dataframe\">\n",
       "  <thead>\n",
       "    <tr style=\"text-align: right;\">\n",
       "      <th></th>\n",
       "      <th>DE11</th>\n",
       "      <th>DE12</th>\n",
       "      <th>DE13</th>\n",
       "      <th>DE14</th>\n",
       "      <th>DE21</th>\n",
       "      <th>DE22</th>\n",
       "      <th>DE23</th>\n",
       "      <th>DE24</th>\n",
       "      <th>DE25</th>\n",
       "      <th>DE26</th>\n",
       "      <th>...</th>\n",
       "      <th>DEB1</th>\n",
       "      <th>DEB2</th>\n",
       "      <th>DEB3</th>\n",
       "      <th>DEC0</th>\n",
       "      <th>DED2</th>\n",
       "      <th>DED4</th>\n",
       "      <th>DED5</th>\n",
       "      <th>DEE0</th>\n",
       "      <th>DEF0</th>\n",
       "      <th>DEG0</th>\n",
       "    </tr>\n",
       "    <tr>\n",
       "      <th>timestamp</th>\n",
       "      <th></th>\n",
       "      <th></th>\n",
       "      <th></th>\n",
       "      <th></th>\n",
       "      <th></th>\n",
       "      <th></th>\n",
       "      <th></th>\n",
       "      <th></th>\n",
       "      <th></th>\n",
       "      <th></th>\n",
       "      <th></th>\n",
       "      <th></th>\n",
       "      <th></th>\n",
       "      <th></th>\n",
       "      <th></th>\n",
       "      <th></th>\n",
       "      <th></th>\n",
       "      <th></th>\n",
       "      <th></th>\n",
       "      <th></th>\n",
       "      <th></th>\n",
       "    </tr>\n",
       "  </thead>\n",
       "  <tbody>\n",
       "    <tr>\n",
       "      <th>2050-01-01 00:00:00</th>\n",
       "      <td>3.237</td>\n",
       "      <td>2.329</td>\n",
       "      <td>1.884</td>\n",
       "      <td>1.546</td>\n",
       "      <td>4.780</td>\n",
       "      <td>1.108</td>\n",
       "      <td>0.992</td>\n",
       "      <td>0.768</td>\n",
       "      <td>1.336</td>\n",
       "      <td>1.052</td>\n",
       "      <td>...</td>\n",
       "      <td>1.079</td>\n",
       "      <td>0.445</td>\n",
       "      <td>3.221</td>\n",
       "      <td>1.081</td>\n",
       "      <td>1.304</td>\n",
       "      <td>0.937</td>\n",
       "      <td>1.254</td>\n",
       "      <td>3.540</td>\n",
       "      <td>2.336</td>\n",
       "      <td>1.354</td>\n",
       "    </tr>\n",
       "    <tr>\n",
       "      <th>2050-01-01 01:00:00</th>\n",
       "      <td>3.189</td>\n",
       "      <td>2.289</td>\n",
       "      <td>1.852</td>\n",
       "      <td>1.532</td>\n",
       "      <td>4.704</td>\n",
       "      <td>1.091</td>\n",
       "      <td>0.981</td>\n",
       "      <td>0.761</td>\n",
       "      <td>1.300</td>\n",
       "      <td>1.042</td>\n",
       "      <td>...</td>\n",
       "      <td>1.068</td>\n",
       "      <td>0.443</td>\n",
       "      <td>3.146</td>\n",
       "      <td>1.078</td>\n",
       "      <td>1.282</td>\n",
       "      <td>0.929</td>\n",
       "      <td>1.219</td>\n",
       "      <td>3.473</td>\n",
       "      <td>2.285</td>\n",
       "      <td>1.336</td>\n",
       "    </tr>\n",
       "    <tr>\n",
       "      <th>2050-01-01 02:00:00</th>\n",
       "      <td>3.101</td>\n",
       "      <td>2.234</td>\n",
       "      <td>1.803</td>\n",
       "      <td>1.495</td>\n",
       "      <td>4.589</td>\n",
       "      <td>1.068</td>\n",
       "      <td>0.958</td>\n",
       "      <td>0.738</td>\n",
       "      <td>1.256</td>\n",
       "      <td>1.015</td>\n",
       "      <td>...</td>\n",
       "      <td>1.045</td>\n",
       "      <td>0.433</td>\n",
       "      <td>3.154</td>\n",
       "      <td>1.069</td>\n",
       "      <td>1.253</td>\n",
       "      <td>0.903</td>\n",
       "      <td>1.204</td>\n",
       "      <td>3.480</td>\n",
       "      <td>2.223</td>\n",
       "      <td>1.297</td>\n",
       "    </tr>\n",
       "    <tr>\n",
       "      <th>2050-01-01 03:00:00</th>\n",
       "      <td>3.059</td>\n",
       "      <td>2.214</td>\n",
       "      <td>1.784</td>\n",
       "      <td>1.477</td>\n",
       "      <td>4.549</td>\n",
       "      <td>1.058</td>\n",
       "      <td>0.946</td>\n",
       "      <td>0.727</td>\n",
       "      <td>1.236</td>\n",
       "      <td>1.000</td>\n",
       "      <td>...</td>\n",
       "      <td>1.034</td>\n",
       "      <td>0.430</td>\n",
       "      <td>3.152</td>\n",
       "      <td>1.071</td>\n",
       "      <td>1.234</td>\n",
       "      <td>0.887</td>\n",
       "      <td>1.195</td>\n",
       "      <td>3.468</td>\n",
       "      <td>2.184</td>\n",
       "      <td>1.277</td>\n",
       "    </tr>\n",
       "    <tr>\n",
       "      <th>2050-01-01 04:00:00</th>\n",
       "      <td>3.042</td>\n",
       "      <td>2.209</td>\n",
       "      <td>1.766</td>\n",
       "      <td>1.468</td>\n",
       "      <td>4.511</td>\n",
       "      <td>1.045</td>\n",
       "      <td>0.933</td>\n",
       "      <td>0.716</td>\n",
       "      <td>1.217</td>\n",
       "      <td>0.988</td>\n",
       "      <td>...</td>\n",
       "      <td>1.024</td>\n",
       "      <td>0.427</td>\n",
       "      <td>3.085</td>\n",
       "      <td>1.062</td>\n",
       "      <td>1.213</td>\n",
       "      <td>0.874</td>\n",
       "      <td>1.173</td>\n",
       "      <td>3.386</td>\n",
       "      <td>2.137</td>\n",
       "      <td>1.256</td>\n",
       "    </tr>\n",
       "  </tbody>\n",
       "</table>\n",
       "<p>5 rows × 38 columns</p>\n",
       "</div>"
      ],
      "text/plain": [
       "                      DE11   DE12   DE13   DE14   DE21   DE22   DE23   DE24  \\\n",
       "timestamp                                                                     \n",
       "2050-01-01 00:00:00  3.237  2.329  1.884  1.546  4.780  1.108  0.992  0.768   \n",
       "2050-01-01 01:00:00  3.189  2.289  1.852  1.532  4.704  1.091  0.981  0.761   \n",
       "2050-01-01 02:00:00  3.101  2.234  1.803  1.495  4.589  1.068  0.958  0.738   \n",
       "2050-01-01 03:00:00  3.059  2.214  1.784  1.477  4.549  1.058  0.946  0.727   \n",
       "2050-01-01 04:00:00  3.042  2.209  1.766  1.468  4.511  1.045  0.933  0.716   \n",
       "\n",
       "                      DE25   DE26  ...   DEB1   DEB2   DEB3   DEC0   DED2  \\\n",
       "timestamp                          ...                                      \n",
       "2050-01-01 00:00:00  1.336  1.052  ...  1.079  0.445  3.221  1.081  1.304   \n",
       "2050-01-01 01:00:00  1.300  1.042  ...  1.068  0.443  3.146  1.078  1.282   \n",
       "2050-01-01 02:00:00  1.256  1.015  ...  1.045  0.433  3.154  1.069  1.253   \n",
       "2050-01-01 03:00:00  1.236  1.000  ...  1.034  0.430  3.152  1.071  1.234   \n",
       "2050-01-01 04:00:00  1.217  0.988  ...  1.024  0.427  3.085  1.062  1.213   \n",
       "\n",
       "                      DED4   DED5   DEE0   DEF0   DEG0  \n",
       "timestamp                                               \n",
       "2050-01-01 00:00:00  0.937  1.254  3.540  2.336  1.354  \n",
       "2050-01-01 01:00:00  0.929  1.219  3.473  2.285  1.336  \n",
       "2050-01-01 02:00:00  0.903  1.204  3.480  2.223  1.297  \n",
       "2050-01-01 03:00:00  0.887  1.195  3.468  2.184  1.277  \n",
       "2050-01-01 04:00:00  0.874  1.173  3.386  2.137  1.256  \n",
       "\n",
       "[5 rows x 38 columns]"
      ]
     },
     "execution_count": 13,
     "metadata": {},
     "output_type": "execute_result"
    }
   ],
   "source": [
    "demand_df.head()\n"
   ]
  },
  {
   "cell_type": "code",
   "execution_count": 14,
   "id": "bd007ec5",
   "metadata": {},
   "outputs": [
    {
     "name": "stdout",
     "output_type": "stream",
     "text": [
      "<class 'pandas.core.frame.DataFrame'>\n",
      "Index: 8760 entries, 2050-01-01 00:00:00 to 2050-12-31 23:00:00\n",
      "Data columns (total 38 columns):\n",
      " #   Column  Non-Null Count  Dtype  \n",
      "---  ------  --------------  -----  \n",
      " 0   DE11    8760 non-null   float64\n",
      " 1   DE12    8760 non-null   float64\n",
      " 2   DE13    8760 non-null   float64\n",
      " 3   DE14    8760 non-null   float64\n",
      " 4   DE21    8760 non-null   float64\n",
      " 5   DE22    8760 non-null   float64\n",
      " 6   DE23    8760 non-null   float64\n",
      " 7   DE24    8760 non-null   float64\n",
      " 8   DE25    8760 non-null   float64\n",
      " 9   DE26    8760 non-null   float64\n",
      " 10  DE27    8760 non-null   float64\n",
      " 11  DE30    8760 non-null   float64\n",
      " 12  DE40    8760 non-null   float64\n",
      " 13  DE50    8760 non-null   float64\n",
      " 14  DE60    8760 non-null   float64\n",
      " 15  DE71    8760 non-null   float64\n",
      " 16  DE72    8760 non-null   float64\n",
      " 17  DE73    8760 non-null   float64\n",
      " 18  DE80    8760 non-null   float64\n",
      " 19  DE91    8760 non-null   float64\n",
      " 20  DE92    8760 non-null   float64\n",
      " 21  DE93    8760 non-null   float64\n",
      " 22  DE94    8760 non-null   float64\n",
      " 23  DEA1    8760 non-null   float64\n",
      " 24  DEA2    8760 non-null   float64\n",
      " 25  DEA3    8760 non-null   float64\n",
      " 26  DEA4    8760 non-null   float64\n",
      " 27  DEA5    8760 non-null   float64\n",
      " 28  DEB1    8760 non-null   float64\n",
      " 29  DEB2    8760 non-null   float64\n",
      " 30  DEB3    8760 non-null   float64\n",
      " 31  DEC0    8760 non-null   float64\n",
      " 32  DED2    8760 non-null   float64\n",
      " 33  DED4    8760 non-null   float64\n",
      " 34  DED5    8760 non-null   float64\n",
      " 35  DEE0    8760 non-null   float64\n",
      " 36  DEF0    8760 non-null   float64\n",
      " 37  DEG0    8760 non-null   float64\n",
      "dtypes: float64(38)\n",
      "memory usage: 2.6+ MB\n"
     ]
    }
   ],
   "source": [
    "demand_df.info()"
   ]
  },
  {
   "cell_type": "markdown",
   "id": "26ffdb88",
   "metadata": {},
   "source": [
    "#### Graph Data"
   ]
  },
  {
   "cell_type": "code",
   "execution_count": 15,
   "id": "c70bb95c",
   "metadata": {},
   "outputs": [],
   "source": [
    "# imports and base graph\n",
    "regions = sorted(labels_df.index.unique())\n",
    "\n",
    "elig_mat = torch.tensor(eligibility_df.loc[regions, regions].values, dtype=torch.float)\n",
    "edge_index, _ = dense_to_sparse(elig_mat)\n",
    "\n",
    "dist_mat = distance_df.loc[regions, regions].values\n",
    "edge_attr = torch.tensor(1.0 / dist_mat[elig_mat.numpy() == 1], dtype=torch.float).unsqueeze(1)"
   ]
  },
  {
   "cell_type": "code",
   "execution_count": 16,
   "id": "5549533c",
   "metadata": {},
   "outputs": [],
   "source": [
    "# monthly mean demand\n",
    "demand_df.index = pd.to_datetime(demand_df.index)\n",
    "demand_month = (demand_df\n",
    "    .assign(month=demand_df.index.month)\n",
    "    .groupby('month')\n",
    "    .mean()\n",
    "    .T)\n",
    "\n",
    "scaler = StandardScaler()\n",
    "demand_month_std = pd.DataFrame(\n",
    "    scaler.fit_transform(demand_month.values),\n",
    "    index=demand_month.index,\n",
    "    columns=demand_month.columns\n",
    ")"
   ]
  },
  {
   "cell_type": "code",
   "execution_count": 17,
   "id": "95dfd7ec",
   "metadata": {},
   "outputs": [
    {
     "name": "stdout",
     "output_type": "stream",
     "text": [
      "Index(['DE11', 'DE12', 'DE13', 'DE14', 'DE21', 'DE22', 'DE23', 'DE24', 'DE25',\n",
      "       'DE26', 'DE27', 'DE30', 'DE40', 'DE50', 'DE60', 'DE71', 'DE72', 'DE73',\n",
      "       'DE80', 'DE91', 'DE92', 'DE93', 'DE94', 'DEA1', 'DEA2', 'DEA3', 'DEA4',\n",
      "       'DEA5', 'DEB1', 'DEB2', 'DEB3', 'DEC0', 'DED2', 'DED4', 'DED5', 'DEE0',\n",
      "       'DEF0', 'DEG0'],\n",
      "      dtype='object')\n"
     ]
    }
   ],
   "source": [
    "print(demand_df.columns)"
   ]
  },
  {
   "cell_type": "code",
   "execution_count": 18,
   "id": "2d6c5b65",
   "metadata": {},
   "outputs": [],
   "source": [
    "# build data objects\n",
    "energy_df['timestamp'] = pd.to_datetime(energy_df['timestamp'])\n",
    "data_list = []\n",
    "\n",
    "for year in range(2000, 2020):\n",
    "    e_y = energy_df[energy_df['timestamp'].dt.year == year].copy()\n",
    "    e_y['month'] = e_y['timestamp'].dt.month\n",
    "\n",
    "    cf_month = (e_y\n",
    "        .melt(id_vars=['month', 'region'],\n",
    "              value_vars=['pv', 'wind_onshore', 'wind_offshore'],\n",
    "              var_name='tech', value_name='cf')\n",
    "        .groupby(['month', 'region', 'tech'])['cf']\n",
    "        .mean()\n",
    "        .unstack()\n",
    "        .rename(columns={\n",
    "            'pv': 'mean_pv_cf',\n",
    "            'wind_onshore': 'mean_wind_onshore_cf',\n",
    "            'wind_offshore': 'mean_wind_offshore_cf'})\n",
    "    )\n",
    "\n",
    "    y_mat = labels_df[labels_df['year'] == year].loc[regions, ['pv', 'wind_onshore', 'wind_offshore']]\n",
    "    y = torch.tensor(y_mat.values, dtype=torch.float)\n",
    "\n",
    "    for m in range(1, 13):\n",
    "        cf_feat = cf_month.loc[m].loc[regions]\n",
    "        demand_m = demand_month_std.loc[regions, m].to_frame('mean_demand')\n",
    "        feats_df = cf_feat.join(demand_m)\n",
    "\n",
    "        x = torch.tensor(feats_df.values, dtype=torch.float)\n",
    "\n",
    "        data = Data(\n",
    "            x=x,\n",
    "            y=y,\n",
    "            edge_index=edge_index,\n",
    "            edge_attr=edge_attr\n",
    "        )\n",
    "        data.year = year\n",
    "        data.month = m\n",
    "        data_list.append(data)\n"
   ]
  },
  {
   "cell_type": "code",
   "execution_count": 19,
   "id": "5b4b8297",
   "metadata": {},
   "outputs": [
    {
     "name": "stdout",
     "output_type": "stream",
     "text": [
      "Number of data objects: 240\n",
      "First example: Data(x=[38, 4], edge_index=[2, 172], edge_attr=[172, 1], y=[38, 3], year=2000, month=1)\n"
     ]
    }
   ],
   "source": [
    "# check result\n",
    "print('Number of data objects:', len(data_list))\n",
    "print('First example:', data_list[0])"
   ]
  },
  {
   "cell_type": "code",
   "execution_count": 20,
   "id": "0ed62861",
   "metadata": {},
   "outputs": [
    {
     "name": "stdout",
     "output_type": "stream",
     "text": [
      "            timestamp region   pv  wind_onshore  wind_offshore  month\n",
      "0 2000-01-01 00:00:00   DE11  0.0         0.013          0.277      1\n",
      "1 2000-01-01 01:00:00   DE11  0.0         0.018          0.283      1\n",
      "2 2000-01-01 02:00:00   DE11  0.0         0.024          0.269      1\n",
      "3 2000-01-01 03:00:00   DE11  0.0         0.031          0.242      1\n",
      "4 2000-01-01 04:00:00   DE11  0.0         0.036          0.215      1\n"
     ]
    }
   ],
   "source": [
    "print(energy_df.head())"
   ]
  },
  {
   "cell_type": "markdown",
   "id": "845c5f21",
   "metadata": {},
   "source": [
    "### 2. Model Selection & Implementation"
   ]
  },
  {
   "cell_type": "markdown",
   "id": "d4f2f830",
   "metadata": {},
   "source": [
    "#### Split & DataLoader"
   ]
  },
  {
   "cell_type": "code",
   "execution_count": 21,
   "id": "b9e774d7",
   "metadata": {},
   "outputs": [],
   "source": [
    "# split by year\n",
    "train_years = list(range(2000, 2016))\n",
    "val_years   = [2016, 2017]\n",
    "test_years  = [2018, 2019]\n",
    "\n",
    "# data loaders\n",
    "train_loader = DataLoader(\n",
    "    [d for d in data_list if d.year in train_years],\n",
    "    batch_size=4, shuffle=True\n",
    ")\n",
    "\n",
    "val_loader = DataLoader(\n",
    "    [d for d in data_list if d.year in val_years],\n",
    "    batch_size=2\n",
    ")\n",
    "\n",
    "test_loader = DataLoader(\n",
    "    [d for d in data_list if d.year in test_years],\n",
    "    batch_size=2\n",
    ")\n"
   ]
  },
  {
   "cell_type": "code",
   "execution_count": 22,
   "id": "7d2c190d",
   "metadata": {},
   "outputs": [],
   "source": [
    "# Train the baseline model\n",
    "def train_baseline(train_fn, model, loader, optimiser, loss_fn, device, epochs):\n",
    "    for _ in range(epochs):\n",
    "        train_fn(model, loader, optimiser, loss_fn, device, epochs=1)\n",
    "\n",
    "# Evaluate the baseline model\n",
    "def eval_baseline(model, loader, device):\n",
    "    ys, preds = [], []\n",
    "    model.eval()\n",
    "    with torch.no_grad():\n",
    "        for batch in loader:\n",
    "            batch = batch.to(device)\n",
    "            out = model(batch.x, batch.edge_index)\n",
    "            ys.append(batch.y.cpu())\n",
    "            preds.append(out.cpu())\n",
    "    return evaluate_model(torch.cat(ys), torch.cat(preds))"
   ]
  },
  {
   "cell_type": "markdown",
   "id": "bb0896c2",
   "metadata": {},
   "source": [
    "#### GCN"
   ]
  },
  {
   "cell_type": "code",
   "execution_count": 23,
   "id": "367b9092",
   "metadata": {},
   "outputs": [
    {
     "name": "stdout",
     "output_type": "stream",
     "text": [
      "GCN Validation: {'MAE': 440.6896667480469, 'RMSE': 812.4923461177957, 'R2': -0.26004520058631897, 'MAPE': 110.67793303611934, 'MedianAE': 215.67552}\n"
     ]
    }
   ],
   "source": [
    "# Configure and train the model\n",
    "gcn = GCN(in_channels=4, hidden_layers=[256, 256], out_channels=3, dropout=0.2).to(device)\n",
    "gcn_opt = torch.optim.AdamW(gcn.parameters(), lr=0.003, weight_decay=1e-4)\n",
    "\n",
    "train_baseline(train_gcn, gcn, train_loader, gcn_opt, torch.nn.L1Loss(), device, epochs=300)\n",
    "torch.save(gcn.state_dict(), 'gcn.pt')\n",
    "print('GCN Validation:', eval_baseline(gcn, val_loader, device))"
   ]
  },
  {
   "cell_type": "markdown",
   "id": "6cf7cc5b",
   "metadata": {},
   "source": [
    "#### GraphSAGE"
   ]
  },
  {
   "cell_type": "code",
   "execution_count": 24,
   "id": "57c171c4",
   "metadata": {},
   "outputs": [
    {
     "name": "stdout",
     "output_type": "stream",
     "text": [
      "GraphSAGE Validation: {'MAE': 447.3058776855469, 'RMSE': 817.6910709430549, 'R2': -0.25322461128234863, 'MAPE': 97.06780856206635, 'MedianAE': 207.51189}\n"
     ]
    }
   ],
   "source": [
    "# Configure and train the model\n",
    "sage = GraphSAGE(in_channels=4, hidden_layers=[256, 256], out_channels=3, dropout=0.2).to(device)\n",
    "sage_opt = torch.optim.AdamW(sage.parameters(), lr=0.003, weight_decay=1e-4)\n",
    "\n",
    "train_baseline(train_sage, sage, train_loader, sage_opt, torch.nn.L1Loss(), device, epochs=300)\n",
    "torch.save(sage.state_dict(), \"sage.pt\")\n",
    "print('GraphSAGE Validation:', eval_baseline(sage, val_loader, device))\n"
   ]
  },
  {
   "cell_type": "markdown",
   "id": "a1dee2be",
   "metadata": {},
   "source": [
    "#### GAT"
   ]
  },
  {
   "cell_type": "code",
   "execution_count": 25,
   "id": "baa75622",
   "metadata": {},
   "outputs": [
    {
     "name": "stdout",
     "output_type": "stream",
     "text": [
      "GAT Validation: {'MAE': 435.4249572753906, 'RMSE': 815.1381784703744, 'R2': -0.26490041613578796, 'MAPE': 121.87060845199069, 'MedianAE': 214.76689}\n"
     ]
    }
   ],
   "source": [
    "# Configure and train the GAT model\n",
    "gat = GAT(in_channels=4, hidden_layers=[32], out_channels=3, heads=8, dropout=0.2).to(device)\n",
    "gat_opt = torch.optim.AdamW(gat.parameters(), lr=0.003, weight_decay=1e-4)\n",
    "\n",
    "train_baseline(train_gat, gat, train_loader, gat_opt, torch.nn.L1Loss(), device, epochs=300)\n",
    "torch.save(gat.state_dict(), \"gat.pt\")\n",
    "print('GAT Validation:', eval_baseline(gat, val_loader, device))"
   ]
  },
  {
   "cell_type": "markdown",
   "id": "108a7fd9",
   "metadata": {},
   "source": [
    "### 3. Model Refinement & Hyperparameter Tuning"
   ]
  },
  {
   "cell_type": "code",
   "execution_count": 26,
   "id": "4e7880ae",
   "metadata": {},
   "outputs": [],
   "source": [
    "# Function to run an epoch of training\n",
    "def train_one_epoch(model, loader, optimiser, loss_fn, device):\n",
    "    model.train()\n",
    "    epoch_loss = 0.0\n",
    "    for batch in loader:\n",
    "        batch = batch.to(device)\n",
    "        optimiser.zero_grad()\n",
    "        preds = model(batch.x, batch.edge_index)\n",
    "        mask  = ~torch.isnan(batch.y).any(dim=1)\n",
    "        loss  = loss_fn(preds[mask], batch.y[mask])\n",
    "        loss.backward()\n",
    "        optimiser.step()\n",
    "        epoch_loss += loss.item()\n",
    "    return epoch_loss / len(loader)\n",
    "\n",
    "# Function for validation\n",
    "@torch.no_grad()\n",
    "def validate(model, loader, loss_fn, device):\n",
    "    model.eval(); val = 0.0\n",
    "    for batch in loader:\n",
    "        batch = batch.to(device)\n",
    "        preds = model(batch.x, batch.edge_index)\n",
    "        mask  = ~torch.isnan(batch.y).any(dim=1)\n",
    "        val  += loss_fn(preds[mask], batch.y[mask]).item()\n",
    "    return val / len(loader)\n"
   ]
  },
  {
   "cell_type": "code",
   "execution_count": 27,
   "id": "d9905350",
   "metadata": {},
   "outputs": [],
   "source": [
    "def run_grid(model_cls, param_grid, train_loader, val_loader,\n",
    "             max_epochs=150, patience=15, base_lr=3e-3, wd=1e-4,\n",
    "             log_file=None):\n",
    "    '''Returns (results_df, best_cfg).'''\n",
    "    combos   = list(param_grid['model_args'])\n",
    "    lr_list  = param_grid.get('lr', [base_lr])\n",
    "    results  = []\n",
    "    best_val = math.inf\n",
    "    best_cfg = None\n",
    "    t0_all   = time.time()\n",
    "\n",
    "    for cfg in combos:\n",
    "        for lr in lr_list:\n",
    "            model = model_cls(**cfg).to(device)\n",
    "            opt   = AdamW(model.parameters(), lr=lr, weight_decay=wd)\n",
    "            loss_fn = L1Loss()\n",
    "\n",
    "            counter = 0\n",
    "            for ep in range(max_epochs):\n",
    "                train_one_epoch(model, train_loader, opt, loss_fn, device)\n",
    "                val_mae = validate(model, val_loader, loss_fn, device)\n",
    "\n",
    "                if val_mae < best_val - 1e-3:\n",
    "                    best_val, best_cfg = val_mae, {**cfg, 'lr': lr}\n",
    "                    torch.save({'state': model.state_dict(), 'cfg': best_cfg},\n",
    "                               f'best_{model_cls.__name__.lower()}.pt')\n",
    "                    counter = 0\n",
    "                else:\n",
    "                    counter += 1\n",
    "                if counter >= patience:\n",
    "                    break\n",
    "\n",
    "            run_id = (f'{model_cls.__name__}'\n",
    "                      f'_d{len(cfg[\"hidden_layers\"])}'\n",
    "                      f'_h{cfg[\"hidden_layers\"][0]}'\n",
    "                      f'_p{int(cfg[\"dropout\"]*100)}'\n",
    "                      f'_lr{lr:.0e}')\n",
    "            results.append({'run_id': run_id, **cfg, 'lr': lr,\n",
    "                            'val_mae': round(val_mae, 2), 'epochs': ep+1})\n",
    "            print(f'{run_id}: Val-MAE {val_mae:.2f}  ({ep+1} ep)')\n",
    "\n",
    "    print(f'\\nBest {model_cls.__name__}: {best_cfg} | MAE {best_val:.2f}'\n",
    "          f' | grid time {time.time()-t0_all:.1f}s')\n",
    "\n",
    "    df = pd.DataFrame(results).sort_values('val_mae')\n",
    "    if log_file:\n",
    "        df.to_csv(log_file, index=False)\n",
    "    return df, best_cfg\n"
   ]
  },
  {
   "cell_type": "code",
   "execution_count": 28,
   "id": "f777f028",
   "metadata": {},
   "outputs": [],
   "source": [
    "# Learning rate common for all models\n",
    "lr_common = [0.001, 0.003]"
   ]
  },
  {
   "cell_type": "markdown",
   "id": "475cad60",
   "metadata": {},
   "source": [
    "#### GCN"
   ]
  },
  {
   "cell_type": "code",
   "execution_count": 29,
   "id": "ea5092a1",
   "metadata": {},
   "outputs": [],
   "source": [
    "# GCN grid search configuration\n",
    "\n",
    "gcn_grid = {\n",
    "    'model_args': [\n",
    "        {'in_channels':4, 'hidden_layers':[h]*d, 'out_channels':3, 'dropout':p}\n",
    "        for d in (2,3) for h in (128,256) for p in (0.1,0.4)\n",
    "    ],\n",
    "    'lr': lr_common,\n",
    "}"
   ]
  },
  {
   "cell_type": "code",
   "execution_count": 30,
   "id": "be8a9094",
   "metadata": {},
   "outputs": [
    {
     "name": "stdout",
     "output_type": "stream",
     "text": [
      "GCN_d2_h128_p10_lr1e-03: Val-MAE 444.00  (21 ep)\n",
      "GCN_d2_h128_p10_lr3e-03: Val-MAE 446.50  (17 ep)\n",
      "GCN_d2_h128_p40_lr1e-03: Val-MAE 439.99  (15 ep)\n",
      "GCN_d2_h128_p40_lr3e-03: Val-MAE 446.61  (17 ep)\n",
      "GCN_d2_h256_p10_lr1e-03: Val-MAE 444.55  (15 ep)\n",
      "GCN_d2_h256_p10_lr3e-03: Val-MAE 445.62  (15 ep)\n",
      "GCN_d2_h256_p40_lr1e-03: Val-MAE 444.17  (15 ep)\n",
      "GCN_d2_h256_p40_lr3e-03: Val-MAE 448.53  (15 ep)\n",
      "GCN_d3_h128_p10_lr1e-03: Val-MAE 436.31  (15 ep)\n",
      "GCN_d3_h128_p10_lr3e-03: Val-MAE 440.68  (15 ep)\n",
      "GCN_d3_h128_p40_lr1e-03: Val-MAE 437.80  (15 ep)\n",
      "GCN_d3_h128_p40_lr3e-03: Val-MAE 437.81  (15 ep)\n",
      "GCN_d3_h256_p10_lr1e-03: Val-MAE 435.54  (15 ep)\n",
      "GCN_d3_h256_p10_lr3e-03: Val-MAE 438.40  (15 ep)\n",
      "GCN_d3_h256_p40_lr1e-03: Val-MAE 437.20  (15 ep)\n",
      "GCN_d3_h256_p40_lr3e-03: Val-MAE 445.45  (15 ep)\n",
      "\n",
      "Best GCN: {'in_channels': 4, 'hidden_layers': [128, 128], 'out_channels': 3, 'dropout': 0.4, 'lr': 0.003} | MAE 417.85 | grid time 164.9s\n"
     ]
    }
   ],
   "source": [
    "# Run GCN grid search\n",
    "df_gcn,  best_gcn  = run_grid(GCN,       gcn_grid,  train_loader, val_loader,\n",
    "                              log_file='gcn_grid.csv')"
   ]
  },
  {
   "cell_type": "markdown",
   "id": "882947f5",
   "metadata": {},
   "source": [
    "#### GraphSAGE"
   ]
  },
  {
   "cell_type": "code",
   "execution_count": 31,
   "id": "d5734068",
   "metadata": {},
   "outputs": [],
   "source": [
    "# GraphSAGE grid search configuration\n",
    "sage_grid = {\n",
    "    'model_args': [\n",
    "        {'in_channels':4, 'hidden_layers':[h]*2, 'out_channels':3,\n",
    "         'dropout':p, 'aggr':a}\n",
    "        for a in ('mean','max') for h in (128,256) for p in (0.1,0.4)\n",
    "    ],\n",
    "    'lr': lr_common,\n",
    "}\n"
   ]
  },
  {
   "cell_type": "code",
   "execution_count": 32,
   "id": "476d797c",
   "metadata": {},
   "outputs": [
    {
     "name": "stdout",
     "output_type": "stream",
     "text": [
      "GraphSAGE_d2_h128_p10_lr1e-03: Val-MAE 426.87  (46 ep)\n",
      "GraphSAGE_d2_h128_p10_lr3e-03: Val-MAE 426.51  (32 ep)\n",
      "GraphSAGE_d2_h128_p40_lr1e-03: Val-MAE 435.27  (15 ep)\n",
      "GraphSAGE_d2_h128_p40_lr3e-03: Val-MAE 420.40  (15 ep)\n",
      "GraphSAGE_d2_h256_p10_lr1e-03: Val-MAE 433.81  (15 ep)\n",
      "GraphSAGE_d2_h256_p10_lr3e-03: Val-MAE 421.85  (15 ep)\n",
      "GraphSAGE_d2_h256_p40_lr1e-03: Val-MAE 433.51  (15 ep)\n",
      "GraphSAGE_d2_h256_p40_lr3e-03: Val-MAE 431.98  (26 ep)\n",
      "GraphSAGE_d2_h128_p10_lr1e-03: Val-MAE 424.78  (15 ep)\n",
      "GraphSAGE_d2_h128_p10_lr3e-03: Val-MAE 423.92  (15 ep)\n",
      "GraphSAGE_d2_h128_p40_lr1e-03: Val-MAE 445.28  (15 ep)\n",
      "GraphSAGE_d2_h128_p40_lr3e-03: Val-MAE 429.56  (15 ep)\n",
      "GraphSAGE_d2_h256_p10_lr1e-03: Val-MAE 430.31  (15 ep)\n",
      "GraphSAGE_d2_h256_p10_lr3e-03: Val-MAE 438.79  (19 ep)\n",
      "GraphSAGE_d2_h256_p40_lr1e-03: Val-MAE 439.85  (15 ep)\n",
      "GraphSAGE_d2_h256_p40_lr3e-03: Val-MAE 442.42  (15 ep)\n",
      "\n",
      "Best GraphSAGE: {'in_channels': 4, 'hidden_layers': [256, 256], 'out_channels': 3, 'dropout': 0.1, 'aggr': 'max', 'lr': 0.003} | MAE 408.86 | grid time 150.9s\n"
     ]
    }
   ],
   "source": [
    "# Run GraphSAGE grid search\n",
    "df_sage, best_sage = run_grid(GraphSAGE, sage_grid, train_loader, val_loader,\n",
    "                              log_file='sage_grid.csv')"
   ]
  },
  {
   "cell_type": "markdown",
   "id": "d32d0578",
   "metadata": {},
   "source": [
    "#### GAT"
   ]
  },
  {
   "cell_type": "code",
   "execution_count": 33,
   "id": "515a5844",
   "metadata": {},
   "outputs": [],
   "source": [
    "# GAT grid search configuration\n",
    "gat_grid = {\n",
    "    'model_args': [\n",
    "        {'in_channels':4, 'hidden_layers':[dim], 'out_channels':3,\n",
    "         'heads':k, 'dropout':p}\n",
    "        for (k,dim) in ((4,32),(8,16)) for p in (0.2,0.5)\n",
    "    ],\n",
    "    'lr': lr_common,\n",
    "}\n"
   ]
  },
  {
   "cell_type": "code",
   "execution_count": 34,
   "id": "b224efcf",
   "metadata": {},
   "outputs": [
    {
     "name": "stdout",
     "output_type": "stream",
     "text": [
      "GAT_d1_h32_p20_lr1e-03: Val-MAE 440.54  (46 ep)\n",
      "GAT_d1_h32_p20_lr3e-03: Val-MAE 436.14  (27 ep)\n",
      "GAT_d1_h32_p50_lr1e-03: Val-MAE 480.89  (15 ep)\n",
      "GAT_d1_h32_p50_lr3e-03: Val-MAE 435.44  (15 ep)\n",
      "GAT_d1_h16_p20_lr1e-03: Val-MAE 472.24  (15 ep)\n",
      "GAT_d1_h16_p20_lr3e-03: Val-MAE 444.79  (15 ep)\n",
      "GAT_d1_h16_p50_lr1e-03: Val-MAE 474.98  (15 ep)\n",
      "GAT_d1_h16_p50_lr3e-03: Val-MAE 443.43  (15 ep)\n",
      "\n",
      "Best GAT: {'in_channels': 4, 'hidden_layers': [32], 'out_channels': 3, 'heads': 4, 'dropout': 0.2, 'lr': 0.003} | MAE 434.46 | grid time 108.3s\n"
     ]
    }
   ],
   "source": [
    "# Run GAT grid search\n",
    "df_gat,  best_gat  = run_grid(GAT, gat_grid,  train_loader, val_loader,\n",
    "                              log_file='gat_grid.csv')"
   ]
  },
  {
   "cell_type": "markdown",
   "id": "597d972c",
   "metadata": {},
   "source": [
    "### 4. Performance Description and best model"
   ]
  },
  {
   "cell_type": "code",
   "execution_count": 36,
   "id": "beb53ef3",
   "metadata": {},
   "outputs": [],
   "source": [
    "# load logs\n",
    "results = pd.concat([\n",
    "    pd.read_csv('gcn_grid.csv').assign(model='GCN'),\n",
    "    pd.read_csv('sage_grid.csv').assign(model='GraphSAGE'),\n",
    "    pd.read_csv('gat_grid.csv').assign(model='GAT'),\n",
    "])"
   ]
  },
  {
   "cell_type": "code",
   "execution_count": 37,
   "id": "05024f6e",
   "metadata": {},
   "outputs": [
    {
     "name": "stderr",
     "output_type": "stream",
     "text": [
      "/var/folders/sk/816rf7z11wb24jqhcn350qzh0000gn/T/ipykernel_99929/3584346781.py:4: FutureWarning: \n",
      "\n",
      "Passing `palette` without assigning `hue` is deprecated and will be removed in v0.14.0. Assign the `x` variable to `hue` and set `legend=False` for the same effect.\n",
      "\n",
      "  sns.barplot(data=best, x='model', y='val_mae', palette='Set2')\n"
     ]
    },
    {
     "data": {
      "image/png": "[encoded data removed]",
      "text/plain": [
       "<Figure size 400x300 with 1 Axes>"
      ]
     },
     "metadata": {},
     "output_type": "display_data"
    }
   ],
   "source": [
    "\n",
    "# bar chart of BEST run per model\n",
    "best = results.sort_values('val_mae').groupby('model').first().reset_index()\n",
    "plt.figure(figsize=(4,3))\n",
    "sns.barplot(data=best, x='model', y='val_mae', palette='Set2')\n",
    "plt.ylabel('Best validation MAE [GW]')\n",
    "plt.xlabel('')\n",
    "plt.title('Best run per architecture')\n",
    "plt.tight_layout(); plt.savefig('best_bar.png', dpi=300)"
   ]
  },
  {
   "cell_type": "code",
   "execution_count": 40,
   "id": "059daaac",
   "metadata": {},
   "outputs": [
    {
     "name": "stderr",
     "output_type": "stream",
     "text": [
      "/var/folders/sk/816rf7z11wb24jqhcn350qzh0000gn/T/ipykernel_99929/2409253481.py:3: FutureWarning: \n",
      "\n",
      "Passing `palette` without assigning `hue` is deprecated and will be removed in v0.14.0. Assign the `x` variable to `hue` and set `legend=False` for the same effect.\n",
      "\n",
      "  sns.violinplot(data=results, x='model', y='val_mae', palette='Set2', inner='quartile')\n"
     ]
    },
    {
     "data": {
      "image/png": "[encoded data removed]",
      "text/plain": [
       "<Figure size 400x300 with 1 Axes>"
      ]
     },
     "metadata": {},
     "output_type": "display_data"
    }
   ],
   "source": [
    "# violin plot: all runs\n",
    "plt.figure(figsize=(4,3))\n",
    "sns.violinplot(data=results, x='model', y='val_mae', palette='Set2', inner='quartile')\n",
    "plt.ylabel('Validation MAE [GW]'); plt.xlabel('')\n",
    "plt.title('Error spread over 8 grid runs')\n",
    "plt.tight_layout(); plt.savefig('spread_violin.png', dpi=300)"
   ]
  }
 ],
 "metadata": {
  "kernelspec": {
   "display_name": "mbd",
   "language": "python",
   "name": "python3"
  },
  "language_info": {
   "codemirror_mode": {
    "name": "ipython",
    "version": 3
   },
   "file_extension": ".py",
   "mimetype": "text/x-python",
   "name": "python",
   "nbconvert_exporter": "python",
   "pygments_lexer": "ipython3",
   "version": "3.11.8"
  }
 },
 "nbformat": 4,
 "nbformat_minor": 5
}
